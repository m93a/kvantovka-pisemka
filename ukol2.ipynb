{
 "cells": [
  {
   "cell_type": "code",
   "execution_count": 1,
   "metadata": {},
   "outputs": [],
   "source": [
    "from __future__ import division\n",
    "import sys\n",
    "sys.path.insert(0, \"~/.local/lib/python3.6/site-packages\")\n",
    "\n",
    "import sympy\n",
    "from sympy import *\n",
    "from sympy.physics.quantum import *\n",
    "\n",
    "def express(a, b, name):\n",
    "    sym = symbols(name)\n",
    "    sol = solve(a-sym, b)\n",
    "    assert len(sol) == 1\n",
    "    return (sym, sol[0])\n",
    "\n",
    "\n",
    "def frange(x, y, jump):\n",
    "    i = 0\n",
    "    curr = x + i*jump\n",
    "    \n",
    "    while curr < y:\n",
    "        yield curr\n",
    "        i += 1\n",
    "        curr = x + i*jump\n",
    "    \n",
    "\n",
    "import gmpy2\n",
    "import mpmath\n",
    "gmpy2.get_context().precision = 10\n",
    "mpmath.mp.dps = 10\n",
    "\n",
    "import numpy\n",
    "import scipy.linalg"
   ]
  },
  {
   "cell_type": "code",
   "execution_count": 2,
   "metadata": {},
   "outputs": [],
   "source": [
    "# https://stackoverflow.com/q/59523322/1137334\n",
    "\n",
    "from sympy.core.operations import AssocOp\n",
    "\n",
    "def apply_ccr(expr, ccr, reverse=False):\n",
    "    if not isinstance(expr, Basic):\n",
    "        raise TypeError(\"The expression to simplify is not a sympy expression.\")\n",
    "        \n",
    "    if not isinstance(ccr, Eq):\n",
    "        if isinstance(ccr, Basic):\n",
    "            ccr = Eq(ccr, 0)\n",
    "        else:\n",
    "            raise TypeError(\"The canonical commutation relation is not a sympy expression.\")\n",
    "    \n",
    "    comm = None\n",
    "    \n",
    "    for node in preorder_traversal(ccr):\n",
    "        if isinstance(node, Commutator):\n",
    "            comm = node\n",
    "            break\n",
    "            \n",
    "    if comm is None:\n",
    "        raise ValueError(\"The cannonical commutation relation doesn not include a commutator.\")\n",
    "        \n",
    "    solutions = solve(ccr, comm)\n",
    "    \n",
    "    if len(solutions) != 1:\n",
    "        raise ValueError(\"There are more solutions to the cannonical commutation relation.\")\n",
    "        \n",
    "    value = solutions[0]\n",
    "    \n",
    "    A = comm.args[0]\n",
    "    B = comm.args[1]\n",
    "    \n",
    "    if reverse:\n",
    "        (A, B) = (B, A)\n",
    "        value = -value\n",
    "    \n",
    "    def is_expandable_pow_of(base, expr):\n",
    "        return isinstance(expr, Pow) \\\n",
    "            and base == expr.args[0] \\\n",
    "            and isinstance(expr.args[1], Number) \\\n",
    "            and expr.args[1] >= 1\n",
    "    \n",
    "    \n",
    "    def walk_tree(expr):\n",
    "        if isinstance(expr, Number):\n",
    "            return expr\n",
    "        \n",
    "        if not isinstance(expr, AssocOp) and not isinstance(expr, Function):\n",
    "            return expr.copy()\n",
    "        \n",
    "        elif not isinstance(expr, Mul):\n",
    "            return expr.func(*(walk_tree(node) for node in expr.args))\n",
    "        \n",
    "        else:\n",
    "            args = [arg for arg in expr.args]\n",
    "            \n",
    "            for i in range(len(args)-1):\n",
    "                x = args[i]\n",
    "                y = args[i+1]\n",
    "                \n",
    "                if B == x and A == y:\n",
    "                    args = args[0:i] + [A*B - value] + args[i+2:]\n",
    "                    return walk_tree( Mul(*args).expand() )\n",
    "                \n",
    "                if B == x and is_expandable_pow_of(A, y):\n",
    "                    ypow = Pow(A, y.args[1] - 1)\n",
    "                    args = args[0:i] + [A*B - value, ypow] + args[i+2:]\n",
    "                    return walk_tree( Mul(*args).expand() )\n",
    "                \n",
    "                if is_expandable_pow_of(B, x) and A == y:\n",
    "                    xpow = Pow(B, x.args[1] - 1)\n",
    "                    args = args[0:i] + [xpow, A*B - value] + args[i+2:]\n",
    "                    return walk_tree( Mul(*args).expand() )\n",
    "                \n",
    "                if is_expandable_pow_of(B, x) and is_expandable_pow_of(A, y):\n",
    "                    xpow = Pow(B, x.args[1] - 1)\n",
    "                    ypow = Pow(A, y.args[1] - 1)\n",
    "                    args = args[0:i] + [xpow, A*B - value, ypow] + args[i+2:]\n",
    "                    return walk_tree( Mul(*args).expand() )\n",
    "            \n",
    "            return expr.copy()\n",
    "            \n",
    "    \n",
    "    return walk_tree(expr)\n",
    "   \n",
    "\n",
    "Basic.apply_ccr = lambda self, ccr, reverse=False: apply_ccr(self, ccr, reverse)\n"
   ]
  },
  {
   "cell_type": "code",
   "execution_count": 3,
   "metadata": {},
   "outputs": [],
   "source": [
    "# https://stackoverflow.com/q/59524925/1137334\n",
    "\n",
    "from sympy.core.operations import AssocOp\n",
    "\n",
    "def apply_operator(expr, eqns):\n",
    "    if not isinstance(expr, Basic):\n",
    "        raise TypeError(\"The expression to simplify is not a sympy expression.\")\n",
    "    \n",
    "    if not isinstance(eqns, list) and not isinstance(eqns, tuple):\n",
    "        eqns = (eqns,)\n",
    "    \n",
    "    \n",
    "    rules = []\n",
    "    \n",
    "    \n",
    "    class Rule(object):\n",
    "        operator = None\n",
    "        ketSymbol = None\n",
    "        result = None\n",
    "        generic = False\n",
    "    \n",
    "    \n",
    "    def is_operator(op):\n",
    "        return isinstance(op, Operator) \\\n",
    "        or isinstance(op, Dagger) \\\n",
    "        and isinstance(op.args[0], Operator)\n",
    "    \n",
    "    \n",
    "    for eqn in eqns:\n",
    "        if not isinstance(eqn, Eq):\n",
    "            raise TypeError(\"One of the equations is not a valid sympy equation.\")\n",
    "        \n",
    "        lhs = eqn.lhs\n",
    "        rhs = eqn.rhs\n",
    "        \n",
    "        if not isinstance(lhs, Mul) \\\n",
    "        or len(lhs.args) != 2 \\\n",
    "        or not is_operator(lhs.args[0]) \\\n",
    "        or not isinstance(lhs.args[1], KetBase):\n",
    "            raise ValueError(\"The left-hand side has to be an operator applied to a ket.\")\n",
    "        \n",
    "        rule = Rule()\n",
    "        rule.operator = lhs.args[0]\n",
    "        rule.ketSymbol = lhs.args[1].args[0]\n",
    "        rule.result = rhs\n",
    "        \n",
    "        if not isinstance(rule.ketSymbol, Symbol):\n",
    "            raise ValueError(\"The left-hand ket has to contain a simple symbol.\")\n",
    "        \n",
    "        for ket in preorder_traversal(rhs):\n",
    "            if isinstance(ket, KetBase):\n",
    "                for symb in preorder_traversal(ket):\n",
    "                    if symb == rule.ketSymbol:\n",
    "                        rule.generic = True\n",
    "                        break\n",
    "                        \n",
    "        rules.append(rule)\n",
    "    \n",
    "    \n",
    "    def is_expandable_pow_of(base, expr):\n",
    "        return isinstance(expr, Pow) \\\n",
    "            and base == expr.args[0] \\\n",
    "            and isinstance(expr.args[1], Number) \\\n",
    "            and expr.args[1] >= 1\n",
    "            \n",
    "            \n",
    "    def is_ket_of_rule(ket, rule):\n",
    "        if not isinstance(ket, KetBase):\n",
    "            return False\n",
    "        \n",
    "        if rule.generic:\n",
    "            for sym in preorder_traversal(ket):\n",
    "                if sym == rule.ketSymbol:\n",
    "                    return True\n",
    "            return False\n",
    "                \n",
    "        else:\n",
    "            return ket.args[0] == rule.ketSymbol\n",
    "    \n",
    "    \n",
    "    def walk_tree(expr):\n",
    "        if isinstance(expr, Number):\n",
    "            return expr\n",
    "        \n",
    "        if not isinstance(expr, AssocOp) and not isinstance(expr, Function):\n",
    "            return expr.copy()\n",
    "        \n",
    "        elif not isinstance(expr, Mul):\n",
    "            return expr.func(*(walk_tree(node) for node in expr.args))\n",
    "        \n",
    "        else:\n",
    "            args = [arg for arg in expr.args]\n",
    "            \n",
    "            for rule in rules:\n",
    "                A = rule.operator\n",
    "                ketSym = rule.ketSymbol\n",
    "                \n",
    "                for i in range(len(args)-1):\n",
    "                    x = args[i]\n",
    "                    y = args[i+1]\n",
    "\n",
    "                    if A == x and is_ket_of_rule(y, rule):\n",
    "                        ev = rule.result\n",
    "                        \n",
    "                        if rule.generic:\n",
    "                            ev = ev.subs(rule.ketSymbol, y.args[0])\n",
    "                        \n",
    "                        args = args[0:i] + [ev] + args[i+2:]\n",
    "                        return walk_tree( Mul(*args).expand() )\n",
    "\n",
    "                    if is_expandable_pow_of(A, x) and is_ket_of_rule(y, rule):\n",
    "                        xpow = Pow(A, x.args[1] - 1)\n",
    "                        ev = rule.result\n",
    "                        \n",
    "                        if rule.generic:\n",
    "                            ev = ev.subs(rule.ketSymbol, y.args[0])\n",
    "                        \n",
    "                        args = args[0:i] + [xpow, ev] + args[i+2:]\n",
    "                        return walk_tree( Mul(*args).expand() )\n",
    "                \n",
    "            \n",
    "            return expr.copy()\n",
    "            \n",
    "    \n",
    "    return walk_tree(expr)\n",
    "   \n",
    "\n",
    "Basic.apply_operator = lambda self, *eqns: apply_operator(self, eqns)\n"
   ]
  },
  {
   "cell_type": "code",
   "execution_count": 60,
   "metadata": {},
   "outputs": [],
   "source": [
    "class OrthogonalKet(State, KetBase):\n",
    "    \n",
    "    @classmethod\n",
    "    def dual_class(self):\n",
    "        return OrthogonalBra\n",
    "    \n",
    "    def _eval_innerproduct(self, bra, **hints):\n",
    "\n",
    "        if len(self.args) != len(bra.args):\n",
    "            raise ValueError('Cannot multiply a ket that has a different number of labels.')\n",
    "            \n",
    "        for i in range(len(self.args)):\n",
    "            diff = self.args[i] - bra.args[i]\n",
    "            diff.simplify()\n",
    "            \n",
    "            if diff.is_nonzero:\n",
    "                return Number(0)\n",
    "            \n",
    "            if not diff.is_zero:\n",
    "                return None\n",
    "            \n",
    "        return Number(1)\n",
    "\n",
    "    \n",
    "class OrthogonalBra(State, BraBase):\n",
    "    \n",
    "    @classmethod\n",
    "    def dual_class(self):\n",
    "        return OrthogonalKet\n",
    "\n",
    "\n",
    "\n",
    "from sympy.printing.pycode import AbstractPythonCodePrinter\n",
    "\n",
    "def _print_inner_prod(self, expr):\n",
    "    bra,ket = expr.args\n",
    "    \n",
    "    \n",
    "    if not isinstance(bra, OrthogonalBra) or not isinstance(ket, OrthogonalKet):\n",
    "        print(bra.func, ket.func)\n",
    "        raise NotImplementedError('Only implemented for orthogonal states')\n",
    "    \n",
    "    if len(ket.args) != len(bra.args):\n",
    "        raise ValueError('Cannot multiply a ket that has a different number of labels.')\n",
    "\n",
    "    conditions = []\n",
    "\n",
    "    for i in range(len(ket.args)):\n",
    "        conditions.append('{a} == {b}'.format(\n",
    "            a = self._print(ket.args[i]),\n",
    "            b = self._print(bra.args[i])\n",
    "        ))\n",
    "\n",
    "    return '(1 if {c} else 0)'.format(\n",
    "        c = ' and '.join(conditions)\n",
    "    )\n",
    "\n",
    "AbstractPythonCodePrinter._print_InnerProduct = _print_inner_prod\n",
    "\n",
    "\n",
    "\n",
    "OKet, OBra = OrthogonalKet, OrthogonalBra\n",
    "\n",
    "def OBraKet(a,b):\n",
    "    return InnerProduct(OBra(a), OKet(b))"
   ]
  },
  {
   "cell_type": "code",
   "execution_count": 7,
   "metadata": {},
   "outputs": [],
   "source": [
    "x, p = Operator('xhat'), Operator('phat')\n",
    "H = (p**2 + x**2)**2"
   ]
  },
  {
   "cell_type": "code",
   "execution_count": 41,
   "metadata": {},
   "outputs": [
    {
     "data": {
      "text/latex": [
       "$\\displaystyle e^{- i t \\left(n^{2} + n + \\frac{1}{2}\\right)} \\left({\\left|n\\right\\rangle } + e^{- 2 i t \\left(n + 1\\right)} {\\left|n + 1\\right\\rangle }\\right)$"
      ],
      "text/plain": [
       "exp(-I*t*(n**2 + n + 1/2))*(|n> + exp(-2*I*t*(n + 1))*|n + 1>)"
      ]
     },
     "execution_count": 41,
     "metadata": {},
     "output_type": "execute_result"
    }
   ],
   "source": [
    "n = symbols('n', negative=False, integer=True)\n",
    "t = symbols('t', real=True)\n",
    "\n",
    "En = n**2 + n + Number(1)/2\n",
    "En1 = En.subs(n,n+1)\n",
    "\n",
    "psit = exp(-I*En*t) * Ket(n) + exp(-I*En1*t) * Ket(n+1)\n",
    "\n",
    "spsit = exp(-I*En*t) * (Ket(n) + exp(-2*I*(n+1)*t) * Ket(n+1))\n",
    "assert 0 == simplify(psit - spsit)\n",
    "psit = spsit\n",
    "psit"
   ]
  },
  {
   "cell_type": "code",
   "execution_count": 51,
   "metadata": {},
   "outputs": [
    {
     "name": "stdout",
     "output_type": "stream",
     "text": [
      "e^{- i t \\left(n^{2} + n + \\frac{1}{2}\\right)} \\left(\\ket{n} + e^{- 2 i t \\left(n + 1\\right)} \\ket{n+1}\\right)\n"
     ]
    }
   ],
   "source": [
    "print(latex(psit.subs(Ket(n), Operator('\\\\ket{n}')).subs(Ket(n+1), Operator('\\\\ket{n+1}'))))"
   ]
  },
  {
   "cell_type": "code",
   "execution_count": null,
   "metadata": {},
   "outputs": [],
   "source": []
  },
  {
   "cell_type": "code",
   "execution_count": 52,
   "metadata": {},
   "outputs": [
    {
     "data": {
      "text/latex": [
       "$\\displaystyle \\left(e^{2 i t \\left(n + 1\\right)} {\\left\\langle n + 1\\right|} + {\\left\\langle n\\right|}\\right) \\hat{x} \\left({\\left|n\\right\\rangle } + e^{- 2 i t \\left(n + 1\\right)} {\\left|n + 1\\right\\rangle }\\right)$"
      ],
      "text/plain": [
       "(exp(2*I*t*(n + 1))*<n + 1| + <n|)*xhat*(|n> + exp(-2*I*t*(n + 1))*|n + 1>)"
      ]
     },
     "execution_count": 52,
     "metadata": {},
     "output_type": "execute_result"
    }
   ],
   "source": [
    "meanx = Dagger(psit) * x * psit\n",
    "meanx"
   ]
  },
  {
   "cell_type": "code",
   "execution_count": 53,
   "metadata": {},
   "outputs": [
    {
     "data": {
      "text/latex": [
       "$\\displaystyle e^{2 i t \\left(n + 1\\right)} {\\left\\langle n + 1\\right|} \\hat{x} {\\left|n\\right\\rangle } + {\\left\\langle n\\right|} \\hat{x} {\\left|n\\right\\rangle } + {\\left\\langle n + 1\\right|} \\hat{x} {\\left|n + 1\\right\\rangle } + e^{- 2 i t \\left(n + 1\\right)} {\\left\\langle n\\right|} \\hat{x} {\\left|n + 1\\right\\rangle }$"
      ],
      "text/plain": [
       "exp(2*I*t*(n + 1))*<n + 1|*xhat*|n> + <n|*xhat*|n> + <n + 1|*xhat*|n + 1> + exp(-2*I*t*(n + 1))*<n|*xhat*|n + 1>"
      ]
     },
     "execution_count": 53,
     "metadata": {},
     "output_type": "execute_result"
    }
   ],
   "source": [
    "meanx = simplify(qapply(meanx.expand()))\n",
    "meanx"
   ]
  },
  {
   "cell_type": "code",
   "execution_count": 54,
   "metadata": {},
   "outputs": [
    {
     "name": "stdout",
     "output_type": "stream",
     "text": [
      "e^{2 i t \\left(n + 1\\right)} {\\left\\langle n + 1\\right|} \\hat{x} \\ket{n} + {\\left\\langle n\\right|} \\hat{x} \\ket{n} + {\\left\\langle n + 1\\right|} \\hat{x} \\ket{n+1} + e^{- 2 i t \\left(n + 1\\right)} {\\left\\langle n\\right|} \\hat{x} \\ket{n+1}\n"
     ]
    }
   ],
   "source": [
    "print(latex(meanx.subs(Ket(n), Operator('\\\\ket{n}')).subs(Ket(n+1), Operator('\\\\ket{n+1}'))))"
   ]
  },
  {
   "cell_type": "code",
   "execution_count": null,
   "metadata": {},
   "outputs": [],
   "source": []
  },
  {
   "cell_type": "code",
   "execution_count": 76,
   "metadata": {},
   "outputs": [
    {
     "data": {
      "text/latex": [
       "$\\displaystyle e^{2 i t \\left(n + 1\\right)} {\\left\\langle n + 1\\right|} \\left(\\hat{a}^{\\dagger} + \\hat{a}\\right) {\\left|n\\right\\rangle } + {\\left\\langle n\\right|} \\left(\\hat{a}^{\\dagger} + \\hat{a}\\right) {\\left|n\\right\\rangle } + {\\left\\langle n + 1\\right|} \\left(\\hat{a}^{\\dagger} + \\hat{a}\\right) {\\left|n + 1\\right\\rangle } + e^{- 2 i t \\left(n + 1\\right)} {\\left\\langle n\\right|} \\left(\\hat{a}^{\\dagger} + \\hat{a}\\right) {\\left|n + 1\\right\\rangle }$"
      ],
      "text/plain": [
       "exp(2*I*t*(n + 1))*<n + 1|*(Dagger(ahat) + ahat)*|n> + <n|*(Dagger(ahat) + ahat)*|n> + <n + 1|*(Dagger(ahat) + ahat)*|n + 1> + exp(-2*I*t*(n + 1))*<n|*(Dagger(ahat) + ahat)*|n + 1>"
      ]
     },
     "execution_count": 76,
     "metadata": {},
     "output_type": "execute_result"
    }
   ],
   "source": [
    "a = Operator('ahat')\n",
    "ad = Dagger(a)\n",
    "\n",
    "ccr = Eq( Commutator(a, ad),  1 )\n",
    "down = Eq( a *OKet(n), sqrt(n  )*OKet(n-1) )\n",
    "up   = Eq( ad*OKet(n), sqrt(n+1)*OKet(n+1) )\n",
    "\n",
    "x_ = ad + a\n",
    "p_ = I*(ad - a)\n",
    "\n",
    "meanx_ = meanx.subs(x,x_)\n",
    "meanx_"
   ]
  },
  {
   "cell_type": "code",
   "execution_count": 77,
   "metadata": {},
   "outputs": [
    {
     "name": "stdout",
     "output_type": "stream",
     "text": [
      "e^{2 i t \\left(n + 1\\right)} {\\left\\langle n + 1\\right|} \\left(\\hat{a}^{\\dagger} + \\hat{a}\\right) \\ket{n} + {\\left\\langle n\\right|} \\left(\\hat{a}^{\\dagger} + \\hat{a}\\right) \\ket{n} + {\\left\\langle n + 1\\right|} \\left(\\hat{a}^{\\dagger} + \\hat{a}\\right) \\ket{n+1} + e^{- 2 i t \\left(n + 1\\right)} {\\left\\langle n\\right|} \\left(\\hat{a}^{\\dagger} + \\hat{a}\\right) \\ket{n+1}\n"
     ]
    }
   ],
   "source": [
    "print(latex(meanx_.subs(Ket(n), Operator('\\\\ket{n}')).subs(Ket(n+1), Operator('\\\\ket{n+1}'))))"
   ]
  },
  {
   "cell_type": "code",
   "execution_count": 78,
   "metadata": {},
   "outputs": [
    {
     "data": {
      "text/latex": [
       "$\\displaystyle \\sqrt{n + 1} e^{2 i t} e^{2 i n t} + \\sqrt{n + 1} e^{- 2 i t} e^{- 2 i n t}$"
      ],
      "text/plain": [
       "sqrt(n + 1)*exp(2*I*t)*exp(2*I*n*t) + sqrt(n + 1)*exp(-2*I*t)*exp(-2*I*n*t)"
      ]
     },
     "execution_count": 78,
     "metadata": {},
     "output_type": "execute_result"
    }
   ],
   "source": [
    "meanx_ = expand(meanx_)\n",
    "meanx_ = apply_operator(meanx_, (up, down))\n",
    "meanx_ = qapply(meanx_)\n",
    "meanx_"
   ]
  },
  {
   "cell_type": "code",
   "execution_count": 79,
   "metadata": {},
   "outputs": [
    {
     "name": "stdout",
     "output_type": "stream",
     "text": [
      "\\sqrt{n + 1} e^{2 i t} e^{2 i n t} + \\sqrt{n + 1} e^{- 2 i t} e^{- 2 i n t}\n"
     ]
    }
   ],
   "source": [
    "print(latex(meanx_))"
   ]
  },
  {
   "cell_type": "code",
   "execution_count": 80,
   "metadata": {},
   "outputs": [
    {
     "data": {
      "text/latex": [
       "$\\displaystyle 2 \\sqrt{n + 1} \\cos{\\left(2 t \\left(n + 1\\right) \\right)}$"
      ],
      "text/plain": [
       "2*sqrt(n + 1)*cos(2*t*(n + 1))"
      ]
     },
     "execution_count": 80,
     "metadata": {},
     "output_type": "execute_result"
    }
   ],
   "source": [
    "meanx_ = simplify(meanx_)\n",
    "meanx_"
   ]
  },
  {
   "cell_type": "code",
   "execution_count": 81,
   "metadata": {},
   "outputs": [
    {
     "name": "stdout",
     "output_type": "stream",
     "text": [
      "2 \\sqrt{n + 1} \\cos{\\left(2 t \\left(n + 1\\right) \\right)}\n"
     ]
    }
   ],
   "source": [
    "print(latex(meanx_))"
   ]
  },
  {
   "cell_type": "code",
   "execution_count": null,
   "metadata": {},
   "outputs": [],
   "source": []
  },
  {
   "cell_type": "code",
   "execution_count": null,
   "metadata": {},
   "outputs": [],
   "source": []
  }
 ],
 "metadata": {
  "kernelspec": {
   "display_name": "Python 3",
   "language": "python",
   "name": "python3"
  },
  "language_info": {
   "codemirror_mode": {
    "name": "ipython",
    "version": 3
   },
   "file_extension": ".py",
   "mimetype": "text/x-python",
   "name": "python",
   "nbconvert_exporter": "python",
   "pygments_lexer": "ipython3",
   "version": "3.6.9"
  }
 },
 "nbformat": 4,
 "nbformat_minor": 2
}
