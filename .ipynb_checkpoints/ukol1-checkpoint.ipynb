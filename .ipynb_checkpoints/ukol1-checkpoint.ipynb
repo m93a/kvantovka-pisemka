{
 "cells": [
  {
   "cell_type": "code",
   "execution_count": 1,
   "metadata": {},
   "outputs": [],
   "source": [
    "from __future__ import division\n",
    "import sys\n",
    "sys.path.insert(0, \"~/.local/lib/python3.6/site-packages\")\n",
    "\n",
    "import sympy\n",
    "from sympy import *\n",
    "from sympy.physics.quantum import *\n",
    "\n",
    "def express(a, b, name):\n",
    "    sym = symbols(name)\n",
    "    sol = solve(a-sym, b)\n",
    "    assert len(sol) == 1\n",
    "    return (sym, sol[0])\n",
    "\n",
    "\n",
    "def frange(x, y, jump):\n",
    "    i = 0\n",
    "    curr = x + i*jump\n",
    "    \n",
    "    while curr < y:\n",
    "        yield curr\n",
    "        i += 1\n",
    "        curr = x + i*jump\n",
    "    \n",
    "\n",
    "import gmpy2\n",
    "import mpmath\n",
    "gmpy2.get_context().precision = 10\n",
    "mpmath.mp.dps = 10\n",
    "\n",
    "import numpy\n",
    "import scipy.linalg"
   ]
  },
  {
   "cell_type": "code",
   "execution_count": 2,
   "metadata": {},
   "outputs": [],
   "source": [
    "# https://stackoverflow.com/q/59523322/1137334\n",
    "\n",
    "from sympy.core.operations import AssocOp\n",
    "\n",
    "def apply_ccr(expr, ccr, reverse=False):\n",
    "    if not isinstance(expr, Basic):\n",
    "        raise TypeError(\"The expression to simplify is not a sympy expression.\")\n",
    "        \n",
    "    if not isinstance(ccr, Eq):\n",
    "        if isinstance(ccr, Basic):\n",
    "            ccr = Eq(ccr, 0)\n",
    "        else:\n",
    "            raise TypeError(\"The canonical commutation relation is not a sympy expression.\")\n",
    "    \n",
    "    comm = None\n",
    "    \n",
    "    for node in preorder_traversal(ccr):\n",
    "        if isinstance(node, Commutator):\n",
    "            comm = node\n",
    "            break\n",
    "            \n",
    "    if comm is None:\n",
    "        raise ValueError(\"The cannonical commutation relation doesn not include a commutator.\")\n",
    "        \n",
    "    solutions = solve(ccr, comm)\n",
    "    \n",
    "    if len(solutions) != 1:\n",
    "        raise ValueError(\"There are more solutions to the cannonical commutation relation.\")\n",
    "        \n",
    "    value = solutions[0]\n",
    "    \n",
    "    A = comm.args[0]\n",
    "    B = comm.args[1]\n",
    "    \n",
    "    if reverse:\n",
    "        (A, B) = (B, A)\n",
    "        value = -value\n",
    "    \n",
    "    def is_expandable_pow_of(base, expr):\n",
    "        return isinstance(expr, Pow) \\\n",
    "            and base == expr.args[0] \\\n",
    "            and isinstance(expr.args[1], Number) \\\n",
    "            and expr.args[1] >= 1\n",
    "    \n",
    "    \n",
    "    def walk_tree(expr):\n",
    "        if isinstance(expr, Number):\n",
    "            return expr\n",
    "        \n",
    "        if not isinstance(expr, AssocOp) and not isinstance(expr, Function):\n",
    "            return expr.copy()\n",
    "        \n",
    "        elif not isinstance(expr, Mul):\n",
    "            return expr.func(*(walk_tree(node) for node in expr.args))\n",
    "        \n",
    "        else:\n",
    "            args = [arg for arg in expr.args]\n",
    "            \n",
    "            for i in range(len(args)-1):\n",
    "                x = args[i]\n",
    "                y = args[i+1]\n",
    "                \n",
    "                if B == x and A == y:\n",
    "                    args = args[0:i] + [A*B - value] + args[i+2:]\n",
    "                    return walk_tree( Mul(*args).expand() )\n",
    "                \n",
    "                if B == x and is_expandable_pow_of(A, y):\n",
    "                    ypow = Pow(A, y.args[1] - 1)\n",
    "                    args = args[0:i] + [A*B - value, ypow] + args[i+2:]\n",
    "                    return walk_tree( Mul(*args).expand() )\n",
    "                \n",
    "                if is_expandable_pow_of(B, x) and A == y:\n",
    "                    xpow = Pow(B, x.args[1] - 1)\n",
    "                    args = args[0:i] + [xpow, A*B - value] + args[i+2:]\n",
    "                    return walk_tree( Mul(*args).expand() )\n",
    "                \n",
    "                if is_expandable_pow_of(B, x) and is_expandable_pow_of(A, y):\n",
    "                    xpow = Pow(B, x.args[1] - 1)\n",
    "                    ypow = Pow(A, y.args[1] - 1)\n",
    "                    args = args[0:i] + [xpow, A*B - value, ypow] + args[i+2:]\n",
    "                    return walk_tree( Mul(*args).expand() )\n",
    "            \n",
    "            return expr.copy()\n",
    "            \n",
    "    \n",
    "    return walk_tree(expr)\n",
    "   \n",
    "\n",
    "Basic.apply_ccr = lambda self, ccr, reverse=False: apply_ccr(self, ccr, reverse)\n"
   ]
  },
  {
   "cell_type": "code",
   "execution_count": 131,
   "metadata": {},
   "outputs": [],
   "source": [
    "class OrthogonalKet(State, KetBase):\n",
    "    \n",
    "    @classmethod\n",
    "    def dual_class(self):\n",
    "        return OrthogonalBra\n",
    "    \n",
    "    def _eval_innerproduct(self, bra, **hints):\n",
    "\n",
    "        if len(self.args) != len(bra.args):\n",
    "            raise ValueError('Cannot multiply a ket that has a different number of labels.')\n",
    "            \n",
    "        for i in range(len(self.args)):\n",
    "            diff = self.args[i] - bra.args[i]\n",
    "            diff.simplify()\n",
    "            \n",
    "            if diff.is_nonzero:\n",
    "                return Number(0)\n",
    "            \n",
    "            if not diff.is_zero:\n",
    "                return None\n",
    "            \n",
    "        return Number(1)\n",
    "\n",
    "    \n",
    "class OrthogonalBra(State, BraBase):\n",
    "    \n",
    "    @classmethod\n",
    "    def dual_class(self):\n",
    "        return OrthogonalKet\n",
    "\n",
    "\n",
    "\n",
    "from sympy.printing.pycode import AbstractPythonCodePrinter\n",
    "\n",
    "def _print_inner_prod(self, expr):\n",
    "    bra,ket = expr.args\n",
    "    \n",
    "    \n",
    "    if not isinstance(bra, OrthogonalBra) or not isinstance(ket, OrthogonalKet):\n",
    "        print(bra.func, ket.func)\n",
    "        raise NotImplementedError('Only implemented for orthogonal states')\n",
    "    \n",
    "    if len(ket.args) != len(bra.args):\n",
    "        raise ValueError('Cannot multiply a ket that has a different number of labels.')\n",
    "\n",
    "    conditions = []\n",
    "\n",
    "    for i in range(len(ket.args)):\n",
    "        conditions.append('{a} == {b}'.format(\n",
    "            a = self._print(ket.args[i]),\n",
    "            b = self._print(bra.args[i])\n",
    "        ))\n",
    "\n",
    "    return '(1 if {c} else 0)'.format(\n",
    "        c = ' and '.join(conditions)\n",
    "    )\n",
    "\n",
    "AbstractPythonCodePrinter._print_InnerProduct = _print_inner_prod\n",
    "\n",
    "\n",
    "\n",
    "OKet, OBra = OrthogonalKet, OrthogonalBra\n",
    "\n",
    "def OBraKet(a,b):\n",
    "    return InnerProduct(OBra(a), OKet(b))"
   ]
  },
  {
   "cell_type": "code",
   "execution_count": 82,
   "metadata": {},
   "outputs": [],
   "source": [
    "hbar = symbols('hbar', real=True, positive=True)\n",
    "\n",
    "eye = Matrix.eye(2)\n",
    "\n",
    "s1_ = \\\n",
    "    Matrix([\n",
    "        [0,1],\n",
    "        [1,0]\n",
    "    ])\n",
    "    \n",
    "s2_ = \\\n",
    "    Matrix([\n",
    "        [0,-I],\n",
    "        [I,0,]\n",
    "    ])\n",
    "\n",
    "s3_ = Matrix([\n",
    "        [1,0],\n",
    "        [0,-1]\n",
    "    ])\n",
    "\n",
    "sm1_, sm2_, sm3_ = [TensorProduct(hbar/2 * s_, eye) for s_ in (s1_,s2_,s3_)]\n",
    "se1_, se2_, se3_ = [TensorProduct(eye, hbar/2 * s_) for s_ in (s1_,s2_,s3_)]\n"
   ]
  },
  {
   "cell_type": "code",
   "execution_count": 83,
   "metadata": {},
   "outputs": [
    {
     "data": {
      "text/latex": [
       "$\\displaystyle \\left[\\begin{matrix}\\frac{A}{4} + \\frac{D}{4} - \\frac{\\alpha^{2} c^{2} m_{r}}{2} & 0 & 0 & 0\\\\0 & - \\frac{A}{4} - \\frac{D}{4} - \\frac{\\alpha^{2} c^{2} m_{r}}{2} & \\frac{A}{2} & 0\\\\0 & \\frac{A}{2} & - \\frac{A}{4} - \\frac{D}{4} - \\frac{\\alpha^{2} c^{2} m_{r}}{2} & 0\\\\0 & 0 & 0 & \\frac{A}{4} + \\frac{D}{4} - \\frac{\\alpha^{2} c^{2} m_{r}}{2}\\end{matrix}\\right]$"
      ],
      "text/plain": [
       "Matrix([\n",
       "[A/4 + D/4 - alpha**2*c**2*m_r/2,                                0,                                0,                               0],\n",
       "[                              0, -A/4 - D/4 - alpha**2*c**2*m_r/2,                              A/2,                               0],\n",
       "[                              0,                              A/2, -A/4 - D/4 - alpha**2*c**2*m_r/2,                               0],\n",
       "[                              0,                                0,                                0, A/4 + D/4 - alpha**2*c**2*m_r/2]])"
      ]
     },
     "execution_count": 83,
     "metadata": {},
     "output_type": "execute_result"
    }
   ],
   "source": [
    "mr, c, alpha = symbols('m_r, c, alpha')\n",
    "A = symbols('A', positive=True)\n",
    "D = symbols('D', negative=True)\n",
    "\n",
    "E0 = -mr * c**2 * alpha**2 / 2\n",
    "Eye = Matrix.eye(4)\n",
    "E0_ = e0*Eye\n",
    "\n",
    "smse_ = (sm1_*se1_ + sm2_*se2_ + sm3_*se3_)\n",
    "\n",
    "H_ = E0_  +  A/hbar**2 * smse_  +  D/hbar**2 * sm3_*se3_\n",
    "H_"
   ]
  },
  {
   "cell_type": "code",
   "execution_count": 84,
   "metadata": {},
   "outputs": [
    {
     "name": "stdout",
     "output_type": "stream",
     "text": [
      "\\left[\\begin{matrix}A + D - 2 \\alpha^{2} c^{2} m_{r} & 0 & 0 & 0\\\\0 & - A - D - 2 \\alpha^{2} c^{2} m_{r} & 2 A & 0\\\\0 & 2 A & - A - D - 2 \\alpha^{2} c^{2} m_{r} & 0\\\\0 & 0 & 0 & A + D - 2 \\alpha^{2} c^{2} m_{r}\\end{matrix}\\right]\n"
     ]
    }
   ],
   "source": [
    "print(latex(H_*4))"
   ]
  },
  {
   "cell_type": "code",
   "execution_count": 85,
   "metadata": {},
   "outputs": [
    {
     "name": "stdout",
     "output_type": "stream",
     "text": [
      "- \\frac{\\alpha^{2} c^{2} m_{r}}{2}\n"
     ]
    }
   ],
   "source": [
    "print(latex(E0))"
   ]
  },
  {
   "cell_type": "code",
   "execution_count": 86,
   "metadata": {},
   "outputs": [
    {
     "data": {
      "text/latex": [
       "$\\displaystyle \\left[\\begin{matrix}\\frac{\\hbar^{2}}{4} & 0 & 0 & 0\\\\0 & - \\frac{\\hbar^{2}}{4} & \\frac{\\hbar^{2}}{2} & 0\\\\0 & \\frac{\\hbar^{2}}{2} & - \\frac{\\hbar^{2}}{4} & 0\\\\0 & 0 & 0 & \\frac{\\hbar^{2}}{4}\\end{matrix}\\right]$"
      ],
      "text/plain": [
       "Matrix([\n",
       "[hbar**2/4,          0,          0,         0],\n",
       "[        0, -hbar**2/4,  hbar**2/2,         0],\n",
       "[        0,  hbar**2/2, -hbar**2/4,         0],\n",
       "[        0,          0,          0, hbar**2/4]])"
      ]
     },
     "execution_count": 86,
     "metadata": {},
     "output_type": "execute_result"
    }
   ],
   "source": [
    "smse_"
   ]
  },
  {
   "cell_type": "code",
   "execution_count": 87,
   "metadata": {},
   "outputs": [
    {
     "name": "stdout",
     "output_type": "stream",
     "text": [
      "\\left[\\begin{matrix}1 & 0 & 0 & 0\\\\0 & -1 & 2 & 0\\\\0 & 2 & -1 & 0\\\\0 & 0 & 0 & 1\\end{matrix}\\right]\n"
     ]
    }
   ],
   "source": [
    "print(latex(smse_*4/hbar**2))"
   ]
  },
  {
   "cell_type": "code",
   "execution_count": 89,
   "metadata": {},
   "outputs": [
    {
     "data": {
      "text/latex": [
       "$\\displaystyle \\left[\\begin{matrix}\\frac{\\hbar^{2}}{4} & 0 & 0 & 0\\\\0 & - \\frac{\\hbar^{2}}{4} & 0 & 0\\\\0 & 0 & - \\frac{\\hbar^{2}}{4} & 0\\\\0 & 0 & 0 & \\frac{\\hbar^{2}}{4}\\end{matrix}\\right]$"
      ],
      "text/plain": [
       "Matrix([\n",
       "[hbar**2/4,          0,          0,         0],\n",
       "[        0, -hbar**2/4,          0,         0],\n",
       "[        0,          0, -hbar**2/4,         0],\n",
       "[        0,          0,          0, hbar**2/4]])"
      ]
     },
     "execution_count": 89,
     "metadata": {},
     "output_type": "execute_result"
    }
   ],
   "source": [
    "sm3_*se3_"
   ]
  },
  {
   "cell_type": "code",
   "execution_count": 90,
   "metadata": {},
   "outputs": [
    {
     "name": "stdout",
     "output_type": "stream",
     "text": [
      "\\left[\\begin{matrix}1 & 0 & 0 & 0\\\\0 & -1 & 0 & 0\\\\0 & 0 & -1 & 0\\\\0 & 0 & 0 & 1\\end{matrix}\\right]\n"
     ]
    }
   ],
   "source": [
    "print(latex(sm3_*se3_*4/hbar**2))"
   ]
  },
  {
   "cell_type": "code",
   "execution_count": null,
   "metadata": {},
   "outputs": [],
   "source": []
  },
  {
   "cell_type": "code",
   "execution_count": 91,
   "metadata": {},
   "outputs": [],
   "source": [
    "HP_inv, HD_ = H_.diagonalize()\n",
    "HP_ = HP_inv.inv()\n",
    "\n",
    "HP_ = Matrix([ (HP_.col(j) / HP_.col(j).norm()).T for j in range(4) ]).T\n",
    "HP_inv = HP_.inv()\n",
    "\n",
    "assert (HP_inv* HD_ * HP_ - H_).is_zero\n"
   ]
  },
  {
   "cell_type": "code",
   "execution_count": 92,
   "metadata": {},
   "outputs": [
    {
     "data": {
      "text/latex": [
       "$\\displaystyle \\left[\\begin{matrix}0 & - \\frac{\\sqrt{2}}{2} & \\frac{\\sqrt{2}}{2} & 0\\\\0 & \\frac{\\sqrt{2}}{2} & \\frac{\\sqrt{2}}{2} & 0\\\\1 & 0 & 0 & 0\\\\0 & 0 & 0 & 1\\end{matrix}\\right]$"
      ],
      "text/plain": [
       "Matrix([\n",
       "[0, -sqrt(2)/2, sqrt(2)/2, 0],\n",
       "[0,  sqrt(2)/2, sqrt(2)/2, 0],\n",
       "[1,          0,         0, 0],\n",
       "[0,          0,         0, 1]])"
      ]
     },
     "execution_count": 92,
     "metadata": {},
     "output_type": "execute_result"
    }
   ],
   "source": [
    "HP_"
   ]
  },
  {
   "cell_type": "code",
   "execution_count": 93,
   "metadata": {},
   "outputs": [
    {
     "name": "stdout",
     "output_type": "stream",
     "text": [
      "\\left[\\begin{matrix}0 & - \\frac{\\sqrt{2}}{2} & \\frac{\\sqrt{2}}{2} & 0\\\\0 & \\frac{\\sqrt{2}}{2} & \\frac{\\sqrt{2}}{2} & 0\\\\1 & 0 & 0 & 0\\\\0 & 0 & 0 & 1\\end{matrix}\\right]\n"
     ]
    }
   ],
   "source": [
    "print(latex(HP_))"
   ]
  },
  {
   "cell_type": "code",
   "execution_count": 94,
   "metadata": {},
   "outputs": [
    {
     "data": {
      "text/latex": [
       "$\\displaystyle \\left[\\begin{matrix}- \\frac{3 A}{4} - \\frac{D}{4} - \\frac{\\alpha^{2} c^{2} m_{r}}{2} & 0 & 0 & 0\\\\0 & \\frac{A}{4} - \\frac{D}{4} - \\frac{\\alpha^{2} c^{2} m_{r}}{2} & 0 & 0\\\\0 & 0 & \\frac{A}{4} + \\frac{D}{4} - \\frac{\\alpha^{2} c^{2} m_{r}}{2} & 0\\\\0 & 0 & 0 & \\frac{A}{4} + \\frac{D}{4} - \\frac{\\alpha^{2} c^{2} m_{r}}{2}\\end{matrix}\\right]$"
      ],
      "text/plain": [
       "Matrix([\n",
       "[-3*A/4 - D/4 - alpha**2*c**2*m_r/2,                               0,                               0,                               0],\n",
       "[                                 0, A/4 - D/4 - alpha**2*c**2*m_r/2,                               0,                               0],\n",
       "[                                 0,                               0, A/4 + D/4 - alpha**2*c**2*m_r/2,                               0],\n",
       "[                                 0,                               0,                               0, A/4 + D/4 - alpha**2*c**2*m_r/2]])"
      ]
     },
     "execution_count": 94,
     "metadata": {},
     "output_type": "execute_result"
    }
   ],
   "source": [
    "HD_"
   ]
  },
  {
   "cell_type": "code",
   "execution_count": 95,
   "metadata": {},
   "outputs": [
    {
     "name": "stdout",
     "output_type": "stream",
     "text": [
      "\\left[\\begin{matrix}- \\frac{3 A}{4} - \\frac{D}{4} - \\frac{\\alpha^{2} c^{2} m_{r}}{2} & 0 & 0 & 0\\\\0 & \\frac{A}{4} - \\frac{D}{4} - \\frac{\\alpha^{2} c^{2} m_{r}}{2} & 0 & 0\\\\0 & 0 & \\frac{A}{4} + \\frac{D}{4} - \\frac{\\alpha^{2} c^{2} m_{r}}{2} & 0\\\\0 & 0 & 0 & \\frac{A}{4} + \\frac{D}{4} - \\frac{\\alpha^{2} c^{2} m_{r}}{2}\\end{matrix}\\right]\n"
     ]
    }
   ],
   "source": [
    "print(latex(HD_))"
   ]
  },
  {
   "cell_type": "code",
   "execution_count": 98,
   "metadata": {},
   "outputs": [
    {
     "name": "stdout",
     "output_type": "stream",
     "text": [
      "\\left[\\begin{matrix}1 & 0\\\\0 & -1\\end{matrix}\\right]\n"
     ]
    }
   ],
   "source": [
    "print(latex(s3_))"
   ]
  },
  {
   "cell_type": "code",
   "execution_count": null,
   "metadata": {},
   "outputs": [],
   "source": []
  },
  {
   "cell_type": "code",
   "execution_count": 101,
   "metadata": {},
   "outputs": [
    {
     "data": {
      "text/latex": [
       "$\\displaystyle \\left[\\begin{matrix}a\\\\0\\\\b\\\\0\\end{matrix}\\right]$"
      ],
      "text/plain": [
       "Matrix([\n",
       "[a],\n",
       "[0],\n",
       "[b],\n",
       "[0]])"
      ]
     },
     "execution_count": 101,
     "metadata": {},
     "output_type": "execute_result"
    }
   ],
   "source": [
    "a, b = symbols('a b')\n",
    "psim = Matrix([a, b])\n",
    "psie = Matrix([1, 0])\n",
    "\n",
    "psi = TensorProduct(psim, psie)\n",
    "psi"
   ]
  },
  {
   "cell_type": "code",
   "execution_count": 110,
   "metadata": {},
   "outputs": [],
   "source": [
    "v1, v2, v3, v4 = [ HP_.col(j) for j in range(4) ]\n",
    "E1, E2, E3, E4 = [ HD_[j,j]   for j in range(4) ]\n",
    "\n",
    "assert psi == a/sqrt(2) * (-v2+v3) + b*v1"
   ]
  },
  {
   "cell_type": "code",
   "execution_count": null,
   "metadata": {},
   "outputs": [],
   "source": []
  },
  {
   "cell_type": "code",
   "execution_count": 133,
   "metadata": {},
   "outputs": [
    {
     "data": {
      "text/latex": [
       "$\\displaystyle \\frac{e^{- \\frac{i t \\left(A + D - 2 \\alpha^{2} c^{2} m_{r}\\right)}{4 \\hbar}} \\left(\\sqrt{2} a \\left(- e^{\\frac{i D t}{2 \\hbar}} {\\left|2\\right\\rangle } + {\\left|3\\right\\rangle }\\right) + 2 b e^{\\frac{i t \\left(2 A + D\\right)}{2 \\hbar}} {\\left|1\\right\\rangle }\\right)}{2}$"
      ],
      "text/plain": [
       "exp(-I*t*(A + D - 2*alpha**2*c**2*m_r)/(4*hbar))*(sqrt(2)*a*(-exp(I*D*t/(2*hbar))*|2> + |3>) + 2*b*exp(I*t*(2*A + D)/(2*hbar))*|1>)/2"
      ]
     },
     "execution_count": 133,
     "metadata": {},
     "output_type": "execute_result"
    }
   ],
   "source": [
    "t = symbols('t', real=True)\n",
    "psit = b * exp(-I*E1*t/hbar) * OKet(1) + a/sqrt(2) * ( -exp(-I*E2*t/hbar) * OKet(2) + exp(-I*E3*t/hbar) * OKet(3) )\n",
    "psit = simplify(psit)\n",
    "psit"
   ]
  },
  {
   "cell_type": "code",
   "execution_count": null,
   "metadata": {},
   "outputs": [],
   "source": []
  },
  {
   "cell_type": "code",
   "execution_count": 134,
   "metadata": {},
   "outputs": [
    {
     "data": {
      "text/latex": [
       "$\\displaystyle e^{- \\frac{i t \\left(A + D - 2 \\alpha^{2} c^{2} m_{r}\\right)}{4 \\hbar}} \\left(\\frac{\\sqrt{2} a \\left(- e^{\\frac{i D t}{2 \\hbar}} {\\left|2\\right\\rangle } + {\\left|3\\right\\rangle }\\right)}{2} + b e^{\\frac{i t \\left(2 A + D\\right)}{2 \\hbar}} {\\left|1\\right\\rangle }\\right)$"
      ],
      "text/plain": [
       "exp(-I*t*(A + D - 2*alpha**2*c**2*m_r)/(4*hbar))*(sqrt(2)*a*(-exp(I*D*t/(2*hbar))*|2> + |3>)/2 + b*exp(I*t*(2*A + D)/(2*hbar))*|1>)"
      ]
     },
     "execution_count": 134,
     "metadata": {},
     "output_type": "execute_result"
    }
   ],
   "source": [
    "spsit = exp(-I*(A + D - 2 * alpha**2 *c**2 * mr)*t/(4*hbar)) * (\n",
    "    b*exp(I*(2*A + D)*t/(2*hbar))*OKet(1) +\n",
    "    a/sqrt(2) *( -exp(I*D*t/(2*hbar))*OKet(2) + OKet(3) )\n",
    ")\n",
    "assert 0 == simplify(spsit - psit)\n",
    "spsit"
   ]
  },
  {
   "cell_type": "code",
   "execution_count": 136,
   "metadata": {},
   "outputs": [
    {
     "data": {
      "text/latex": [
       "$\\displaystyle \\left[\\begin{matrix}\\frac{a \\left(e^{\\frac{i D t}{2 \\hbar}} + 1\\right) e^{- \\frac{i t \\left(A + D - 2 \\alpha^{2} c^{2} m_{r}\\right)}{4 \\hbar}}}{2}\\\\\\frac{a \\left(1 - e^{\\frac{i D t}{2 \\hbar}}\\right) e^{- \\frac{i t \\left(A + D - 2 \\alpha^{2} c^{2} m_{r}\\right)}{4 \\hbar}}}{2}\\\\b e^{\\frac{i t \\left(3 A + D + 2 \\alpha^{2} c^{2} m_{r}\\right)}{4 \\hbar}}\\\\0\\end{matrix}\\right]$"
      ],
      "text/plain": [
       "Matrix([\n",
       "[a*(exp(I*D*t/(2*hbar)) + 1)*exp(-I*t*(A + D - 2*alpha**2*c**2*m_r)/(4*hbar))/2],\n",
       "[a*(1 - exp(I*D*t/(2*hbar)))*exp(-I*t*(A + D - 2*alpha**2*c**2*m_r)/(4*hbar))/2],\n",
       "[                           b*exp(I*t*(3*A + D + 2*alpha**2*c**2*m_r)/(4*hbar))],\n",
       "[                                                                             0]])"
      ]
     },
     "execution_count": 136,
     "metadata": {},
     "output_type": "execute_result"
    }
   ],
   "source": [
    "psit_ = psit.subs(OKet(1), v1).subs(OKet(2), v2).subs(OKet(3), v3)\n",
    "psit_ = simplify(psit_)\n",
    "psit_"
   ]
  },
  {
   "cell_type": "code",
   "execution_count": 146,
   "metadata": {},
   "outputs": [
    {
     "data": {
      "text/latex": [
       "$\\displaystyle \\left[\\begin{matrix}↑_{e} ↑_{\\mu}\\\\↑_{\\mu} ↓_{e}\\\\↑_{e} ↓_{\\mu}\\\\↓_{e} ↓_{\\mu}\\end{matrix}\\right]$"
      ],
      "text/plain": [
       "Matrix([\n",
       "[↑_e*↑_mu],\n",
       "[↑_mu*↓_e],\n",
       "[↑_e*↓_mu],\n",
       "[↓_e*↓_mu]])"
      ]
     },
     "execution_count": 146,
     "metadata": {},
     "output_type": "execute_result"
    }
   ],
   "source": [
    "TensorProduct(Matrix(symbols(\"↑_mu ↓_mu\")),Matrix(symbols(\"↑_e ↓_e\")))"
   ]
  },
  {
   "cell_type": "code",
   "execution_count": 147,
   "metadata": {},
   "outputs": [
    {
     "name": "stdout",
     "output_type": "stream",
     "text": [
      "\\left[\\begin{matrix}\\frac{a \\left(e^{\\frac{i D t}{2 \\hbar}} + 1\\right) e^{- \\frac{i t \\left(A + D - 2 \\alpha^{2} c^{2} m_{r}\\right)}{4 \\hbar}}}{2}\\\\\\frac{a \\left(1 - e^{\\frac{i D t}{2 \\hbar}}\\right) e^{- \\frac{i t \\left(A + D - 2 \\alpha^{2} c^{2} m_{r}\\right)}{4 \\hbar}}}{2}\\\\b e^{\\frac{i t \\left(3 A + D + 2 \\alpha^{2} c^{2} m_{r}\\right)}{4 \\hbar}}\\\\0\\end{matrix}\\right]\n"
     ]
    }
   ],
   "source": [
    "print(latex(psit_))"
   ]
  },
  {
   "cell_type": "code",
   "execution_count": 152,
   "metadata": {},
   "outputs": [
    {
     "data": {
      "text/latex": [
       "$\\displaystyle \\left(- \\frac{e^{\\frac{i D t}{2 \\hbar}} \\left|{a}\\right|^{2}}{2} + e^{\\frac{i D t}{2 \\hbar}} - \\frac{e^{\\frac{i D t}{\\hbar}} \\left|{a}\\right|^{2}}{4} - \\frac{\\left|{a}\\right|^{2}}{4}\\right) e^{- \\frac{t \\left(\\frac{i D}{2} + \\operatorname{im}{\\left(\\alpha^{2} c^{2} m_{r}\\right)}\\right)}{\\hbar}}$"
      ],
      "text/plain": [
       "(-exp(I*D*t/(2*hbar))*Abs(a)**2/2 + exp(I*D*t/(2*hbar)) - exp(I*D*t/hbar)*Abs(a)**2/4 - Abs(a)**2/4)*exp(-t*(I*D/2 + im(alpha**2*c**2*m_r))/hbar)"
      ]
     },
     "execution_count": 152,
     "metadata": {},
     "output_type": "execute_result"
    }
   ],
   "source": [
    "P = abs(psit_[1])**2 + abs(psit_[2])**2\n",
    "P = simplify(P)\n",
    "P = P.subs(abs(b)**2, 1-abs(a)**2)\n",
    "P = simplify(P)\n",
    "P"
   ]
  },
  {
   "cell_type": "code",
   "execution_count": null,
   "metadata": {},
   "outputs": [],
   "source": []
  },
  {
   "cell_type": "code",
   "execution_count": null,
   "metadata": {},
   "outputs": [],
   "source": []
  },
  {
   "cell_type": "code",
   "execution_count": 162,
   "metadata": {},
   "outputs": [
    {
     "data": {
      "text/latex": [
       "$\\displaystyle \\left[\\begin{matrix}\\frac{1}{2} & 0 & \\frac{1}{2} & 0\\\\0 & \\frac{1}{2} & 0 & \\frac{1}{2}\\\\\\frac{1}{2} & 0 & \\frac{1}{2} & 0\\\\0 & \\frac{1}{2} & 0 & \\frac{1}{2}\\end{matrix}\\right]$"
      ],
      "text/plain": [
       "Matrix([\n",
       "[1/2,   0, 1/2,   0],\n",
       "[  0, 1/2,   0, 1/2],\n",
       "[1/2,   0, 1/2,   0],\n",
       "[  0, 1/2,   0, 1/2]])"
      ]
     },
     "execution_count": 162,
     "metadata": {},
     "output_type": "execute_result"
    }
   ],
   "source": [
    "right = 1/sqrt(2) * Matrix([1,1])\n",
    "up = Matrix([1,0])\n",
    "down = Matrix([0,1])\n",
    "\n",
    "rightup = TensorProduct(right, up)\n",
    "rightdown = TensorProduct(right, down)\n",
    "\n",
    "Proj = rightup * rightup.T + rightdown * rightdown.T\n",
    "Proj"
   ]
  },
  {
   "cell_type": "code",
   "execution_count": null,
   "metadata": {},
   "outputs": [],
   "source": []
  },
  {
   "cell_type": "code",
   "execution_count": null,
   "metadata": {},
   "outputs": [],
   "source": []
  }
 ],
 "metadata": {
  "kernelspec": {
   "display_name": "Python 3",
   "language": "python",
   "name": "python3"
  },
  "language_info": {
   "codemirror_mode": {
    "name": "ipython",
    "version": 3
   },
   "file_extension": ".py",
   "mimetype": "text/x-python",
   "name": "python",
   "nbconvert_exporter": "python",
   "pygments_lexer": "ipython3",
   "version": "3.6.9"
  }
 },
 "nbformat": 4,
 "nbformat_minor": 2
}
